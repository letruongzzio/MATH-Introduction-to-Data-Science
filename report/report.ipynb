{
 "cells": [
  {
   "cell_type": "markdown",
   "metadata": {},
   "source": [
    "# Đặt vấn đề"
   ]
  },
  {
   "cell_type": "markdown",
   "metadata": {},
   "source": [
    "Bài làm của nhóm em là cào dữ liệu trên trang web [https://batdongsan.vn/ban-nha/](https://batdongsan.vn/ban-nha/), sau đó xử lý dữ liệu và thực hiện dự đoán giá nhà dựa trên các feature mà nhóm tìm thấy."
   ]
  },
  {
   "cell_type": "markdown",
   "metadata": {},
   "source": [
    "# Quá trình làm việc"
   ]
  },
  {
   "cell_type": "markdown",
   "metadata": {},
   "source": [
    "## Thu thập dữ liệu"
   ]
  },
  {
   "cell_type": "markdown",
   "metadata": {},
   "source": [
    "Dữ liệu được thu thập bằng thư viện Selenium,"
   ]
  },
  {
   "cell_type": "markdown",
   "metadata": {},
   "source": [
    "## Xử lý thêm feature bằng LLM"
   ]
  },
  {
   "cell_type": "code",
   "execution_count": null,
   "metadata": {},
   "outputs": [],
   "source": [
    "Dữ liệu được đưa vào anyscale để chạy lọc ra các thông tin mới từ mô tả của bất động sản. Các thông tin mới đó bao gồm:\n",
    "- "
   ]
  },
  {
   "cell_type": "markdown",
   "metadata": {},
   "source": [
    "# Thực hiện làm sạch dữ liệu"
   ]
  },
  {
   "cell_type": "markdown",
   "metadata": {},
   "source": [
    "Xử lý các dữ liệu bị thiếu, outlier"
   ]
  },
  {
   "cell_type": "markdown",
   "metadata": {},
   "source": [
    "## Thêm các feature mới từ các feature thô ở các bước trước"
   ]
  },
  {
   "cell_type": "markdown",
   "metadata": {},
   "source": [
    "Bước này liên hệ chặt chẽ với bước làm sạch dữ liệu, vì từ việc feature engineering ta có thể  xử lý các feature bị thiếu, và từ các feature cũ ta có thể  thêm các feature mới. Các feature được thêm mới là:\n",
  },
  {
   "cell_type": "markdown",
   "metadata": {},
   "source": [
    "# Huấn luyện các mô hình đơn giản"
   ]
  },
  {
   "cell_type": "markdown",
   "metadata": {},
   "source": [
    "Quá trình này có thể tìm thấy ở file [train.ipynb](../train/train.ipynb)\n",
    "\n",
    "Nhóm em thực hiện train 2 mô hình đơn giản: Hồi quy tuyến tính và cây quyết định. Kết quả cho thấy:\n",
    "- Về mặt tuyến tính, dữ liệu không giải thích được nhiều giá của một bất động sản.\n",
    "- Một số feature không có ý nghĩa lắm đối với cây quyết định, điều đáng cân nhắc khi sử dụng rừng ngẫu nhiên về sau.\n",
    "\n",
    "Tổng hợp lại, nhóm em đã bỏ 6 cột:\n",
    "\n",
    "```python\n",
    "['Cluster', 'For rent', 'Latitude', 'Distance to center 0', 'Distance to center 1', 'Longitude']\n",
    "```"
   ]
  },
  {
   "cell_type": "markdown",
   "metadata": {},
   "source": [
    "## Huấn luyện các mô hình phức tạp"
   ]
  },
  {
   "cell_type": "markdown",
   "metadata": {},
   "source": [
    "Quá trình này gồm 2 file [random_forest.ipynb](../train_complex/random_forest.ipynb) và [pytorch.ipynb](../train_complex/pytorch.ipynb)\n",
    "\n",
    "Nhóm em thực hiện train 2 mô hình phức tạp, gồm rừng ngẫu nhiên và học sâu:\n",
    "- Mô hình rừng ngẫu nhiên có r2 là 0.61 và RMSE là 0.62 khi kiêm tra trên tập test.\n",
    "- Mô hình học sâu có RMSE là 0.66, khi kiểm tra trên tập test."
   ]
  },
  {
   "cell_type": "markdown",
   "metadata": {},
   "source": [
    "## Kết luận"
   ]
  },
  {
   "cell_type": "markdown",
   "metadata": {},
   "source": [
    "Qua quá trình làm việc, nhóm em rút ra các kết luận sau:\n",
    "- Dữ liệu trên web thiếu rất nhiều dữ liệu cần thiết, từ đó có thể ảnh hưởng rất lớn đến giá nhà của một bất động sản.\n",
    "- Đôi khi, cách định giá của người bán là không chính xác, và vì thế không nên quá tin tưởng vào giá nhà, mà chỉ xem là thông tin tham khảo.\n",
    "- Rất nhiều bất động sản bị thiếu hoặc không rõ ràng về địa chỉ."
   ]
  }
 ],
 "metadata": {
  "kernelspec": {
   "display_name": "handsonds",
   "language": "python",
   "name": "python3"
  },
  "language_info": {
   "codemirror_mode": {
    "name": "ipython",
    "version": 3
   },
   "file_extension": ".py",
   "mimetype": "text/x-python",
   "name": "python",
   "nbconvert_exporter": "python",
   "pygments_lexer": "ipython3",
   "version": "3.11.5"
  }
 },
 "nbformat": 4,
 "nbformat_minor": 2
}
