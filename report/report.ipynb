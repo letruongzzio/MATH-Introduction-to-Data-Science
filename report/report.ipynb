{
<<<<<<< HEAD
 "cells": [
  {
   "cell_type": "markdown",
   "metadata": {},
   "source": [
    "# Đặt vấn đề"
   ]
  },
  {
   "cell_type": "markdown",
   "metadata": {},
   "source": [
    "Bài làm của nhóm em là cào dữ liệu trên trang web [https://batdongsan.vn/ban-nha/](https://batdongsan.vn/ban-nha/), sau đó xử lý dữ liệu và thực hiện dự đoán giá nhà dựa trên các feature mà nhóm tìm thấy."
   ]
  },
  {
   "cell_type": "markdown",
   "metadata": {},
   "source": [
    "# Quá trình làm việc"
   ]
  },
  {
   "cell_type": "markdown",
   "metadata": {},
   "source": [
    "## Thu thập dữ liệu"
   ]
  },
  {
   "cell_type": "markdown",
   "metadata": {},
   "source": [
    "Dữ liệu được thu thập bằng thư viện Selenium."
   ]
  },
  {
   "cell_type": "markdown",
   "metadata": {},
   "source": [
    "## Xử lý thêm feature bằng LLM"
   ]
  },
  {
   "cell_type": "markdown",
   "metadata": {},
   "source": [
    "Dữ liệu được đưa vào anyscale để chạy lọc ra các thông tin mới từ mô tả của bất động sản. Các thông tin mới đó bao gồm:\n",
    "- Diện tích phòng khách\n",
    "- Số lượng phòng ngủ\n",
    "- Tiện ích xung quanh\n",
    "\n",
    "Thông tin đưa cho LLM bao gồm dữ liệu phi cấu trúc cột \"Description\" và cột \"Title\" sau đó LLM sẽ phân tích thành dữ liệu có cấu trúc. Ví dụ:\n",
    "\n",
    "```\n",
    "+ Thông số cực đẹp 5 x 30m (150m2)\n",
    "+ Nhà cấp 4, 2PN, toilet, phòng khách, bếp, sân sau trồng cây.\n",
    "+ Nhà gần sát Mặt tiền, hẻm nhựa xe hơi tránh.\n",
    "+ Khu vực tập trung nhiều Khu dân cư, các Dự án lớn, thu hút đông đảo các Nhà Đầu Tư lớn, Huyện Nhà Bè hướng đến mục tiêu trở thành Thành phố trực thuộc TP.Hồ Chí Minh.\n",
    "+ Giá chưa tới 30tr/m2 bao đầu tư.\n",
    "+ Sổ đang vay bank 2.2 tỷ, pháp lý chuẩn, chủ cần bán gấp.\n",
    "☎️ Thiện chí alo em Hiền gặp chính chủ thương lượng, miễn trung gian.\"\n",
    "\n",
    "Tiêu đề: Bạch Đằng, Quận 1\n",
    "```\n",
    "\n",
    "LLM sẽ phân tích và trả về kết quả như sau:\n",
    "\n",
    "[2, 1, 0, \"Bạch Đằng, Quận 1\"]\n",
    "\n",
    "Source code đảm nhận công việc này là [extract_data.py](../extract_features_from_data/extract_data.py). Trong tập tin này, đảm nhận việc chia nhỏ dữ liệu thô ra thành 10 phần và dùng đa luồng để chia ra xử lý, cuối cùng đóng gói thành 1 file csv duy nhất chứa dữ liệu đã được xử lý.\n",
    "\n",
    "Một phần quan trọng để sử dụng được LLM là API của [anyscale](https://www.anyscale.com/) "
   ]
  },
  {
   "cell_type": "markdown",
   "metadata": {},
   "source": [
    "# Thực hiện làm sạch dữ liệu"
   ]
  },
  {
   "cell_type": "markdown",
   "metadata": {},
   "source": [
    "Xử lý các dữ liệu bị thiếu, outlier."
   ]
  },
  {
   "cell_type": "markdown",
   "metadata": {},
   "source": [
    "## Thêm các feature mới từ các feature thô ở các bước trước"
   ]
  },
  {
   "cell_type": "markdown",
   "metadata": {},
   "source": [
    "Bước này liên hệ chặt chẽ với bước làm sạch dữ liệu, vì từ việc feature engineering ta có thể xử lý các feature bị thiếu, và từ các feature cũ ta có thể thêm các feature mới. Các feature được thêm mới là:\n",
    "- `Cluster`: Phân chia các căn nhà ra thành các cụm\n",
    "- `Distance to center 0` và `Distance to center 1`: Đo khoảng cách đến trung tâm\n",
    "Có thể quan sát quá trình feature engineering và EDA trong file [EDA-and-Feature-engineering.ipynb](../EDA_FE/EDA-and-Feature-engineering.ipynb)\n"
   ]
  },
  {
   "cell_type": "markdown",
   "metadata": {},
   "source": [
    "# Huấn luyện các mô hình đơn giản"
   ]
  },
  {
   "cell_type": "markdown",
   "metadata": {},
   "source": [
    "Quá trình này có thể tìm thấy ở file [train.ipynb](../train/train.ipynb)\n",
    "\n",
    "Nhóm em thực hiện train 2 mô hình đơn giản: Hồi quy tuyến tính và cây quyết định. Kết quả cho thấy:\n",
    "- Về mặt tuyến tính, dữ liệu không giải thích được nhiều giá của một bất động sản.\n",
    "- Một số feature không có ý nghĩa lắm đối với cây quyết định, điều đáng cân nhắc khi sử dụng rừng ngẫu nhiên về sau.\n",
    "\n",
    "Tổng hợp lại, nhóm em đã bỏ 6 cột:\n",
    "\n",
    "```python\n",
    "['Cluster', 'For rent', 'Latitude', 'Distance to center 0', 'Distance to center 1', 'Longitude']\n",
    "```"
   ]
  },
  {
   "cell_type": "markdown",
   "metadata": {},
   "source": [
    "## Huấn luyện các mô hình phức tạp"
   ]
  },
  {
   "cell_type": "markdown",
   "metadata": {},
   "source": [
    "Quá trình này gồm 2 file [random_forest.ipynb](../train_complex/random_forest.ipynb) và [pytorch.ipynb](../train_complex/pytorch.ipynb)\n",
    "\n",
    "Nhóm em thực hiện train 2 mô hình phức tạp, gồm rừng ngẫu nhiên và học sâu:\n",
    "- Mô hình rừng ngẫu nhiên có r2 là 0.61 và RMSE là 0.62 khi kiểm tra trên tập test.\n",
    "- Mô hình học sâu có RMSE là 0.66, khi kiểm tra trên tập test."
   ]
  },
  {
   "cell_type": "markdown",
   "metadata": {},
   "source": [
    "## Kết luận"
   ]
  },
  {
   "cell_type": "markdown",
   "metadata": {},
   "source": [
    "Qua quá trình làm việc, nhóm em rút ra các kết luận sau:\n",
    "- Dữ liệu trên web thiếu rất nhiều dữ liệu cần thiết, từ đó có thể ảnh hưởng rất lớn đến giá nhà của một bất động sản.\n",
    "- Đôi khi, cách định giá của người bán là không chính xác, và vì thế không nên quá tin tưởng vào giá nhà, mà chỉ xem là thông tin tham khảo.\n",
    "- Rất nhiều bất động sản bị thiếu hoặc không rõ ràng về địa chỉ."
   ]
  }
 ],
 "metadata": {
  "kernelspec": {
   "display_name": "handsonds",
   "language": "python",
   "name": "python3"
  },
  "language_info": {
   "codemirror_mode": {
    "name": "ipython",
    "version": 3
   },
   "file_extension": ".py",
   "mimetype": "text/x-python",
   "name": "python",
   "nbconvert_exporter": "python",
   "pygments_lexer": "ipython3",
   "version": "3.11.5"
  }
 },
 "nbformat": 4,
 "nbformat_minor": 2
}
=======
    "cells": [
     {
      "cell_type": "markdown",
      "metadata": {},
      "source": [
       "# Đặt vấn đề"
      ]
     },
     {
      "cell_type": "markdown",
      "metadata": {},
      "source": [
       "Bài làm của nhóm em là cào dữ liệu trên trang web [https://batdongsan.vn/ban-nha/](https://batdongsan.vn/ban-nha/), sau đó xử lý dữ liệu và thực hiện dự đoán giá nhà dựa trên các feature mà nhóm tìm thấy."
      ]
     },
     {
      "cell_type": "markdown",
      "metadata": {},
      "source": [
       "# Quá trình làm việc"
      ]
     },
     {
      "cell_type": "markdown",
      "metadata": {},
      "source": [
       "## Thu thập dữ liệu"
      ]
     },
     {
      "cell_type": "markdown",
      "metadata": {},
      "source": [
       "Dữ liệu được thu thập bằng thư viện Selenium."
      ]
     },
     {
      "cell_type": "markdown",
      "metadata": {},
      "source": [
       "## Xử lý thêm feature bằng LLM"
      ]
     },
     {
      "cell_type": "code",
      "execution_count": null,
      "metadata": {},
      "outputs": [],
      "source": [
       "# Dữ liệu được đưa vào anyscale để chạy lọc ra các thông tin mới từ mô tả của bất động sản. Các thông tin mới đó bao gồm:\n",
       "# - Diện tích phòng khách\n",
       "# - Số lượng phòng ngủ\n",
       "# - Tình trạng nội thất\n",
       "# - Tiện ích xung quanh"
      ]
     },
     {
      "cell_type": "markdown",
      "metadata": {},
      "source": [
       "# Thực hiện làm sạch dữ liệu"
      ]
     },
     {
      "cell_type": "markdown",
      "metadata": {},
      "source": [
       "Xử lý các dữ liệu bị thiếu, outlier."
      ]
     },
     {
      "cell_type": "markdown",
      "metadata": {},
      "source": [
       "## Thêm các feature mới từ các feature thô ở các bước trước"
      ]
     },
     {
      "cell_type": "markdown",
      "metadata": {},
      "source": [
       "Bước này liên hệ chặt chẽ với bước làm sạch dữ liệu, vì từ việc feature engineering ta có thể xử lý các feature bị thiếu, và từ các feature cũ ta có thể thêm các feature mới. Các feature được thêm mới là:\n",
       "- `Cluster`: Phân chia các căn nhà ra thành các cụm\n",
       "- `Distance to center 0` và `Distance to center 1`: Đo khoảng cách đến trung tâm\n",
       "\n",
       "Có thể quan sát quá trình feature engineering và EDA trong file [EDA-and-Feature-engineering.ipynb](../EDA_FE/EDA-and-Feature-engineering.ipynb)\n"
      ]
     },
     {
      "cell_type": "markdown",
      "metadata": {},
      "source": [
       "# Huấn luyện các mô hình đơn giản"
      ]
     },
     {
      "cell_type": "markdown",
      "metadata": {},
      "source": [
       "Quá trình này có thể tìm thấy ở file [train.ipynb](../train/train.ipynb)\n",
       "\n",
       "Nhóm em thực hiện train 2 mô hình đơn giản: Hồi quy tuyến tính và cây quyết định. Kết quả cho thấy:\n",
       "- Về mặt tuyến tính, dữ liệu không giải thích được nhiều giá của một bất động sản.\n",
       "- Một số feature không có ý nghĩa lắm đối với cây quyết định, điều đáng cân nhắc khi sử dụng rừng ngẫu nhiên về sau.\n",
       "\n",
       "Tổng hợp lại, nhóm em đã bỏ 6 cột:\n",
       "\n",
       "```python\n",
       "['Cluster', 'For rent', 'Latitude', 'Distance to center 0', 'Distance to center 1', 'Longitude']\n",
       "```"
      ]
     },
     {
      "cell_type": "markdown",
      "metadata": {},
      "source": [
       "## Huấn luyện các mô hình phức tạp"
      ]
     },
     {
      "cell_type": "markdown",
      "metadata": {},
      "source": [
       "Quá trình này gồm 2 file [random_forest.ipynb](../train_complex/random_forest.ipynb) và [pytorch.ipynb](../train_complex/pytorch.ipynb)\n",
       "\n",
       "Nhóm em thực hiện train 2 mô hình phức tạp, gồm rừng ngẫu nhiên và học sâu:\n",
       "- Mô hình rừng ngẫu nhiên có r2 là 0.61 và RMSE là 0.62 khi kiểm tra trên tập test.\n",
       "- Mô hình học sâu có RMSE là 0.66, khi kiểm tra trên tập test."
      ]
     },
     {
      "cell_type": "markdown",
      "metadata": {},
      "source": [
       "## Kết luận"
      ]
     },
     {
      "cell_type": "markdown",
      "metadata": {},
      "source": [
       "Qua quá trình làm việc, nhóm em rút ra các kết luận sau:\n",
       "- Dữ liệu trên web thiếu rất nhiều dữ liệu cần thiết, từ đó có thể ảnh hưởng rất lớn đến giá nhà của một bất động sản.\n",
       "- Đôi khi, cách định giá của người bán là không chính xác, và vì thế không nên quá tin tưởng vào giá nhà, mà chỉ xem là thông tin tham khảo.\n",
       "- Rất nhiều bất động sản bị thiếu hoặc không rõ ràng về địa chỉ."
      ]
     }
    ],
    "metadata": {
     "kernelspec": {
      "display_name": "handsonds",
      "language": "python",
      "name": "python3"
     },
     "language_info": {
      "codemirror_mode": {
       "name": "ipython",
       "version": 3
      },
      "file_extension": ".py",
      "mimetype": "text/x-python",
      "name": "python",
      "nbconvert_exporter": "python",
      "pygments_lexer": "ipython3",
      "version": "3.11.5"
     }
    },
    "nbformat": 4,
    "nbformat_minor": 2
   }
   
>>>>>>> c9115fab94c078ea89d439083afe404021eeb3a0
