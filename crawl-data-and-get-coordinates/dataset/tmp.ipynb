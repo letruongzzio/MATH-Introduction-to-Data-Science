{
 "cells": [
  {
   "cell_type": "code",
   "execution_count": 1,
   "metadata": {},
   "outputs": [],
   "source": [
    "import pandas as pd\n",
    "df1 = pd.read_csv('/home/tiamo/Documents/code/Intro to DS 2024/Project1/intro-to-ds-project/crawl-data-and-get-coordinates/dataset/page657.csv',sep='\\t')\n",
    "df2 = pd.read_csv('/home/tiamo/Documents/code/Intro to DS 2024/Project1/intro-to-ds-project/crawl-data-and-get-coordinates/dataset/page669.csv',sep='\\t')\n",
    "df3 = pd.read_csv('/home/tiamo/Documents/code/Intro to DS 2024/Project1/intro-to-ds-project/crawl-data-and-get-coordinates/dataset/page677.csv',sep='\\t')\n",
    "df4 = pd.read_csv('/home/tiamo/Documents/code/Intro to DS 2024/Project1/intro-to-ds-project/crawl-data-and-get-coordinates/dataset/page689.csv',sep='\\t')\n",
    "df5 = pd.read_csv('/home/tiamo/Documents/code/Intro to DS 2024/Project1/intro-to-ds-project/crawl-data-and-get-coordinates/dataset/page697.csv',sep='\\t')\n",
    "df6 = pd.read_csv('/home/tiamo/Documents/code/Intro to DS 2024/Project1/intro-to-ds-project/crawl-data-and-get-coordinates/dataset/page709.csv',sep='\\t')\n",
    "df7 = pd.read_csv('/home/tiamo/Documents/code/Intro to DS 2024/Project1/intro-to-ds-project/crawl-data-and-get-coordinates/dataset/page717.csv',sep='\\t')\n",
    "df8 = pd.read_csv('/home/tiamo/Documents/code/Intro to DS 2024/Project1/intro-to-ds-project/crawl-data-and-get-coordinates/dataset/page729.csv',sep='\\t')\n",
    "df9 = pd.read_csv('/home/tiamo/Documents/code/Intro to DS 2024/Project1/intro-to-ds-project/crawl-data-and-get-coordinates/dataset/page737.csv',sep='\\t')\n",
    "df10 = pd.read_csv('/home/tiamo/Documents/code/Intro to DS 2024/Project1/intro-to-ds-project/crawl-data-and-get-coordinates/dataset/page749.csv',sep='\\t')"
   ]
  },
  {
   "cell_type": "code",
   "execution_count": 2,
   "metadata": {},
   "outputs": [
    {
     "data": {
      "text/plain": [
       "2240"
      ]
     },
     "execution_count": 2,
     "metadata": {},
     "output_type": "execute_result"
    }
   ],
   "source": [
    "df = pd.concat([df1,df2,df3,df4,df4,df5,df6,df7,df8,df9,df10],axis=0)\n",
    "len(df)"
   ]
  },
  {
   "cell_type": "code",
   "execution_count": 3,
   "metadata": {},
   "outputs": [
    {
     "data": {
      "text/html": [
       "<div>\n",
       "<style scoped>\n",
       "    .dataframe tbody tr th:only-of-type {\n",
       "        vertical-align: middle;\n",
       "    }\n",
       "\n",
       "    .dataframe tbody tr th {\n",
       "        vertical-align: top;\n",
       "    }\n",
       "\n",
       "    .dataframe thead th {\n",
       "        text-align: right;\n",
       "    }\n",
       "</style>\n",
       "<table border=\"1\" class=\"dataframe\">\n",
       "  <thead>\n",
       "    <tr style=\"text-align: right;\">\n",
       "      <th></th>\n",
       "      <th>Title</th>\n",
       "      <th>Price</th>\n",
       "      <th>Links</th>\n",
       "      <th>Diện tích (m2)</th>\n",
       "      <th>Số phòng ngủ</th>\n",
       "      <th>Số phòng WC</th>\n",
       "      <th>Địa chỉ</th>\n",
       "      <th>Description</th>\n",
       "    </tr>\n",
       "  </thead>\n",
       "  <tbody>\n",
       "    <tr>\n",
       "      <th>0</th>\n",
       "      <td>Bán nhà phố Bùi Xương Trạch 40m2x6T, 2mặt thoá...</td>\n",
       "      <td>4.35 tỷ</td>\n",
       "      <td>https://batdongsan.vn/ban-nha-pho-bui-xuong-tr...</td>\n",
       "      <td>40.0</td>\n",
       "      <td>4.0</td>\n",
       "      <td>NaN</td>\n",
       "      <td>NaN</td>\n",
       "      <td>. Mô tả.\\nNhà nằm ở vị trí trung tâm otô đỗ cử...</td>\n",
       "    </tr>\n",
       "    <tr>\n",
       "      <th>1</th>\n",
       "      <td>chỉ 93tr/m2,5x17m,Bán nhà HXH Bạch Đằng MT1,Bì...</td>\n",
       "      <td>7.95 tỷ</td>\n",
       "      <td>https://batdongsan.vn/chi-93trm25x17mban-nha-h...</td>\n",
       "      <td>80.0</td>\n",
       "      <td>NaN</td>\n",
       "      <td>NaN</td>\n",
       "      <td>Thành phố Hồ Chí Minh</td>\n",
       "      <td>chỉ 93tr/m2,5x17m,Bán nhà HXH Bạch Đằng MT1,Bì...</td>\n",
       "    </tr>\n",
       "    <tr>\n",
       "      <th>2</th>\n",
       "      <td>Ngang 7.5M,Bán nhà HXH V1 Điện Biên Phủ, Bình ...</td>\n",
       "      <td>12.4 tỷ</td>\n",
       "      <td>https://batdongsan.vn/ngang-75mban-nha-hxh-v1-...</td>\n",
       "      <td>140.0</td>\n",
       "      <td>NaN</td>\n",
       "      <td>NaN</td>\n",
       "      <td>Thành phố Hồ Chí Minh</td>\n",
       "      <td>Ngang 7.5M,Bán nhà HXH V1 Điện Biên Phủ, Bình ...</td>\n",
       "    </tr>\n",
       "    <tr>\n",
       "      <th>3</th>\n",
       "      <td>Nhà đẹp Ngọc Lâm- Long Biên, 90m x 5 tầng, ôtô...</td>\n",
       "      <td>11.5 tỷ</td>\n",
       "      <td>https://batdongsan.vn/nha-dep-ngoc-lam-long-bi...</td>\n",
       "      <td>90.0</td>\n",
       "      <td>4.0</td>\n",
       "      <td>5.0</td>\n",
       "      <td>NaN</td>\n",
       "      <td>Nhà đẹp Ngọc Lâm- Long Biên, 90m x 5 tầng, ôtô...</td>\n",
       "    </tr>\n",
       "    <tr>\n",
       "      <th>4</th>\n",
       "      <td>bán nhà mặt phố Vạn Phúc, Hà Đông kinh doanh 7...</td>\n",
       "      <td>22.3 tỷ</td>\n",
       "      <td>https://batdongsan.vn/ban-nha-mat-pho-van-phuc...</td>\n",
       "      <td>75.0</td>\n",
       "      <td>NaN</td>\n",
       "      <td>NaN</td>\n",
       "      <td>NaN</td>\n",
       "      <td>- bán nhà mặt phố Vạn Phúc, Hà Đông 75m2*2T MT...</td>\n",
       "    </tr>\n",
       "    <tr>\n",
       "      <th>...</th>\n",
       "      <td>...</td>\n",
       "      <td>...</td>\n",
       "      <td>...</td>\n",
       "      <td>...</td>\n",
       "      <td>...</td>\n",
       "      <td>...</td>\n",
       "      <td>...</td>\n",
       "      <td>...</td>\n",
       "    </tr>\n",
       "    <tr>\n",
       "      <th>2235</th>\n",
       "      <td>Nhà HXH Đào Duy Anh, Phú Nhuận trệt 2 lầu sân ...</td>\n",
       "      <td>14.5 tỷ</td>\n",
       "      <td>https://batdongsan.vn/nha-hxh-dao-duy-anh-phu-...</td>\n",
       "      <td>72.0</td>\n",
       "      <td>5.0</td>\n",
       "      <td>5.0</td>\n",
       "      <td>Thành phố Hồ Chí Minh</td>\n",
       "      <td>TÌNH CHỈ ĐẸP KHI CÒN KỊP LÚC - ĐỜI CHỈ VUI KHI...</td>\n",
       "    </tr>\n",
       "    <tr>\n",
       "      <th>2236</th>\n",
       "      <td>Mặt tiền Cô Bắc Phú Nhuận giáp Phan Đình Phùng...</td>\n",
       "      <td>9.25 tỷ</td>\n",
       "      <td>https://batdongsan.vn/mat-tien-co-bac-phu-nhua...</td>\n",
       "      <td>NaN</td>\n",
       "      <td>5.0</td>\n",
       "      <td>5.0</td>\n",
       "      <td>Thành phố Hồ Chí Minh</td>\n",
       "      <td>TÌNH CHỈ ĐẸP KHI CÒN KỊP LÚC - ĐỜI CHỈ VUI KHI...</td>\n",
       "    </tr>\n",
       "    <tr>\n",
       "      <th>2237</th>\n",
       "      <td>Bán Nhà Đinh Tiên Hoàng 4 tầng, ngõ to rộng ch...</td>\n",
       "      <td>Thỏa thuận</td>\n",
       "      <td>https://batdongsan.vn/ban-nha-dinh-tien-hoang-...</td>\n",
       "      <td>39.0</td>\n",
       "      <td>NaN</td>\n",
       "      <td>NaN</td>\n",
       "      <td>NaN</td>\n",
       "      <td>Bán Nhà Đinh Tiên Hoàng 4 tầng, ngõ to rộng ch...</td>\n",
       "    </tr>\n",
       "    <tr>\n",
       "      <th>2238</th>\n",
       "      <td>Xe hơi lướt qua nhà, 3 tầng BTCT, 3 phòng ngủ,...</td>\n",
       "      <td>5.8 tỷ</td>\n",
       "      <td>https://batdongsan.vn/xe-hoi-luot-qua-nha-3-ta...</td>\n",
       "      <td>32.0</td>\n",
       "      <td>3.0</td>\n",
       "      <td>3.0</td>\n",
       "      <td>Nhà Nguyễn Văn Đậu, Phường 6, Bình Thạnh.</td>\n",
       "      <td>Nhà Nguyễn Văn Đậu, Phường 6, Bình Thạnh\\nMô t...</td>\n",
       "    </tr>\n",
       "    <tr>\n",
       "      <th>2239</th>\n",
       "      <td>Bán nhà 100m2 SHR thổ cư đường ô tô (P.Tam Hòa...</td>\n",
       "      <td>5.9 tỷ</td>\n",
       "      <td>https://batdongsan.vn/ban-nha-100m2-shr-tho-cu...</td>\n",
       "      <td>100.0</td>\n",
       "      <td>2.0</td>\n",
       "      <td>NaN</td>\n",
       "      <td>NaN</td>\n",
       "      <td>Bán nhà Cấp 4 đẹp có gác phường Tam Hòa 100m2 ...</td>\n",
       "    </tr>\n",
       "  </tbody>\n",
       "</table>\n",
       "<p>2240 rows × 8 columns</p>\n",
       "</div>"
      ],
      "text/plain": [
       "                                                  Title       Price  \\\n",
       "0     Bán nhà phố Bùi Xương Trạch 40m2x6T, 2mặt thoá...     4.35 tỷ   \n",
       "1     chỉ 93tr/m2,5x17m,Bán nhà HXH Bạch Đằng MT1,Bì...     7.95 tỷ   \n",
       "2     Ngang 7.5M,Bán nhà HXH V1 Điện Biên Phủ, Bình ...     12.4 tỷ   \n",
       "3     Nhà đẹp Ngọc Lâm- Long Biên, 90m x 5 tầng, ôtô...     11.5 tỷ   \n",
       "4     bán nhà mặt phố Vạn Phúc, Hà Đông kinh doanh 7...     22.3 tỷ   \n",
       "...                                                 ...         ...   \n",
       "2235  Nhà HXH Đào Duy Anh, Phú Nhuận trệt 2 lầu sân ...     14.5 tỷ   \n",
       "2236  Mặt tiền Cô Bắc Phú Nhuận giáp Phan Đình Phùng...     9.25 tỷ   \n",
       "2237  Bán Nhà Đinh Tiên Hoàng 4 tầng, ngõ to rộng ch...  Thỏa thuận   \n",
       "2238  Xe hơi lướt qua nhà, 3 tầng BTCT, 3 phòng ngủ,...      5.8 tỷ   \n",
       "2239  Bán nhà 100m2 SHR thổ cư đường ô tô (P.Tam Hòa...      5.9 tỷ   \n",
       "\n",
       "                                                  Links  Diện tích (m2)  \\\n",
       "0     https://batdongsan.vn/ban-nha-pho-bui-xuong-tr...            40.0   \n",
       "1     https://batdongsan.vn/chi-93trm25x17mban-nha-h...            80.0   \n",
       "2     https://batdongsan.vn/ngang-75mban-nha-hxh-v1-...           140.0   \n",
       "3     https://batdongsan.vn/nha-dep-ngoc-lam-long-bi...            90.0   \n",
       "4     https://batdongsan.vn/ban-nha-mat-pho-van-phuc...            75.0   \n",
       "...                                                 ...             ...   \n",
       "2235  https://batdongsan.vn/nha-hxh-dao-duy-anh-phu-...            72.0   \n",
       "2236  https://batdongsan.vn/mat-tien-co-bac-phu-nhua...             NaN   \n",
       "2237  https://batdongsan.vn/ban-nha-dinh-tien-hoang-...            39.0   \n",
       "2238  https://batdongsan.vn/xe-hoi-luot-qua-nha-3-ta...            32.0   \n",
       "2239  https://batdongsan.vn/ban-nha-100m2-shr-tho-cu...           100.0   \n",
       "\n",
       "      Số phòng ngủ  Số phòng WC                                    Địa chỉ  \\\n",
       "0              4.0          NaN                                        NaN   \n",
       "1              NaN          NaN                      Thành phố Hồ Chí Minh   \n",
       "2              NaN          NaN                      Thành phố Hồ Chí Minh   \n",
       "3              4.0          5.0                                        NaN   \n",
       "4              NaN          NaN                                        NaN   \n",
       "...            ...          ...                                        ...   \n",
       "2235           5.0          5.0                      Thành phố Hồ Chí Minh   \n",
       "2236           5.0          5.0                      Thành phố Hồ Chí Minh   \n",
       "2237           NaN          NaN                                        NaN   \n",
       "2238           3.0          3.0  Nhà Nguyễn Văn Đậu, Phường 6, Bình Thạnh.   \n",
       "2239           2.0          NaN                                        NaN   \n",
       "\n",
       "                                            Description  \n",
       "0     . Mô tả.\\nNhà nằm ở vị trí trung tâm otô đỗ cử...  \n",
       "1     chỉ 93tr/m2,5x17m,Bán nhà HXH Bạch Đằng MT1,Bì...  \n",
       "2     Ngang 7.5M,Bán nhà HXH V1 Điện Biên Phủ, Bình ...  \n",
       "3     Nhà đẹp Ngọc Lâm- Long Biên, 90m x 5 tầng, ôtô...  \n",
       "4     - bán nhà mặt phố Vạn Phúc, Hà Đông 75m2*2T MT...  \n",
       "...                                                 ...  \n",
       "2235  TÌNH CHỈ ĐẸP KHI CÒN KỊP LÚC - ĐỜI CHỈ VUI KHI...  \n",
       "2236  TÌNH CHỈ ĐẸP KHI CÒN KỊP LÚC - ĐỜI CHỈ VUI KHI...  \n",
       "2237  Bán Nhà Đinh Tiên Hoàng 4 tầng, ngõ to rộng ch...  \n",
       "2238  Nhà Nguyễn Văn Đậu, Phường 6, Bình Thạnh\\nMô t...  \n",
       "2239  Bán nhà Cấp 4 đẹp có gác phường Tam Hòa 100m2 ...  \n",
       "\n",
       "[2240 rows x 8 columns]"
      ]
     },
     "execution_count": 3,
     "metadata": {},
     "output_type": "execute_result"
    }
   ],
   "source": [
    "import numpy as np\n",
    "df.set_index(np.arange(len(df)))"
   ]
  },
  {
   "cell_type": "code",
   "execution_count": 4,
   "metadata": {},
   "outputs": [
    {
     "data": {
      "text/plain": [
       "Title                0\n",
       "Price                0\n",
       "Links                0\n",
       "Diện tích (m2)     187\n",
       "Số phòng ngủ       863\n",
       "Số phòng WC        996\n",
       "Địa chỉ           1108\n",
       "Description          0\n",
       "dtype: int64"
      ]
     },
     "execution_count": 4,
     "metadata": {},
     "output_type": "execute_result"
    }
   ],
   "source": [
    "df.isna().sum()"
   ]
  },
  {
   "cell_type": "code",
   "execution_count": 10,
   "metadata": {},
   "outputs": [
    {
     "data": {
      "text/plain": [
       "Title             Bán nhà 100m2 SHR thổ cư đường ô tô (P.Tam Hòa...\n",
       "Price                                                        5.9 tỷ\n",
       "Links             https://batdongsan.vn/ban-nha-100m2-shr-tho-cu...\n",
       "Diện tích (m2)                                                100.0\n",
       "Số phòng ngủ                                                    2.0\n",
       "Số phòng WC                                                     NaN\n",
       "Địa chỉ                                                         NaN\n",
       "Description       Bán nhà Cấp 4 đẹp có gác phường Tam Hòa 100m2 ...\n",
       "Name: 239, dtype: object"
      ]
     },
     "execution_count": 10,
     "metadata": {},
     "output_type": "execute_result"
    }
   ],
   "source": [
    "df.iloc[-1]#['Links']"
   ]
  },
  {
   "cell_type": "code",
   "execution_count": 7,
   "metadata": {},
   "outputs": [],
   "source": [
    "df.to_csv('next_2000(1).csv',sep='\\t',index=False)"
   ]
  },
  {
   "cell_type": "code",
   "execution_count": null,
   "metadata": {},
   "outputs": [],
   "source": []
  }
 ],
 "metadata": {
  "kernelspec": {
   "display_name": "Python 3",
   "language": "python",
   "name": "python3"
  },
  "language_info": {
   "codemirror_mode": {
    "name": "ipython",
    "version": 3
   },
   "file_extension": ".py",
   "mimetype": "text/x-python",
   "name": "python",
   "nbconvert_exporter": "python",
   "pygments_lexer": "ipython3",
   "version": "3.10.12"
  }
 },
 "nbformat": 4,
 "nbformat_minor": 2
}
