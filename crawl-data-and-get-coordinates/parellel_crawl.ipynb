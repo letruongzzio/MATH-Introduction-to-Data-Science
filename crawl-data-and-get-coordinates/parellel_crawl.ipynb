{
 "cells": [
  {
   "cell_type": "code",
   "execution_count": 28,
   "metadata": {},
   "outputs": [],
   "source": [
    "import numpy as np\n",
    "from selenium import webdriver\n",
    "from time import sleep\n",
    "import pandas as pd\n",
    "import threading\n",
    "import os\n",
    "from queue import Queue\n",
    "import re"
   ]
  },
  {
   "cell_type": "code",
   "execution_count": 18,
   "metadata": {},
   "outputs": [],
   "source": [
    "os.environ['PATH'] += r\"/usr/local/bin/\""
   ]
  },
  {
   "cell_type": "code",
   "execution_count": 19,
   "metadata": {},
   "outputs": [],
   "source": [
    "base_url = \"https://batdongsan.vn/ban-nha/\""
   ]
  },
  {
   "cell_type": "code",
   "execution_count": 21,
   "metadata": {},
   "outputs": [],
   "source": [
    "def openMultiBrowser(n):\n",
    "    drivers = []\n",
    "    for i in range(n):\n",
    "        driver = webdriver.Firefox()\n",
    "        drivers.append(driver)\n",
    "    return drivers\n",
    "\n",
    "def loadMultiPages(driver,n):\n",
    "    driver.maximize_window()\n",
    "    driver.get(f\"{base_url}p{n}\")\n",
    "    sleep(5)\n",
    "   \n",
    "num_pages = [400,405,410]\n",
    "def loadMultiBrowsers(drivers_rx): \n",
    "    for i,driver in enumerate(drivers_rx):\n",
    "        t = threading.Thread(target=loadMultiPages,args=(driver,num_pages[i]))\n",
    "        t.start()"
   ]
  },
  {
   "cell_type": "code",
   "execution_count": 22,
   "metadata": {},
   "outputs": [],
   "source": [
    "def get_params(text):\n",
    "    reg_template = {\"Area\":'Diện tích:\\s*(\\d+)',\n",
    "                \"Room\":'Phòng ngủ:\\s*(\\d+)',\n",
    "                \"WC\":'Phòng WC:\\s*(\\d+)',\n",
    "                \"Location\":'Địa chỉ:\\s*(.+)'}\n",
    "    list_params = []\n",
    "    for name in reg_template:\n",
    "        x = re.search(r'{}'.format(reg_template[name]),text)\n",
    "        if x:\n",
    "            list_params.append(x.group(1))\n",
    "        else:\n",
    "            list_params.append(np.nan)\n",
    "    return list_params\n",
    "\n",
    "\n",
    "def get_data(driver):\n",
    "    report = pd.DataFrame(columns=['Title', 'Price', 'Links',\\\n",
    "            'Diện tích (m2)', 'Số phòng ngủ','Số phòng WC', 'Địa chỉ'\\\n",
    "            ,'Description'])\n",
    "    n_iter = 2\n",
    "    for i in range(n_iter):\n",
    "        driver.implicitly_wait(10)\n",
    "        try:\n",
    "            next = driver.find_element('css selector','.uk-pagination [rel=\"next\"]').get_attribute('href')\n",
    "            elements = driver.find_elements('css selector','.uk-width-medium-7-10 .name [href]')\n",
    "            elements_price = driver.find_elements('css selector','.price')\n",
    "        except:\n",
    "            continue\n",
    "            \n",
    "        title = [element.text for element in elements]\n",
    "\n",
    "        links = [element.get_attribute('href') for element in elements]\n",
    "\n",
    "        price = [element.text for element in elements_price]\n",
    "            \n",
    "        df1 = pd.DataFrame(zip(title,price,links),columns=['Title','Price','Links'])\n",
    "        \n",
    "        data = []\n",
    "        \n",
    "        n = len(links)\n",
    "\n",
    "        for j in range(n):\n",
    "            try:\n",
    "                driver.get(links[j])\n",
    "                sleep(5)\n",
    "                params = driver.find_element('css selector',\".param\")\n",
    "                content = driver.find_element('css selector',\".content\")\n",
    "            except:\n",
    "                # df1.drop(j,axis=0,inplace=True)\n",
    "                continue\n",
    "            params_ = get_params(params.text)\n",
    "            params_.append(content.text)\n",
    "            data.append(params_)\n",
    "\n",
    "        tmp = np.vstack([item for item in data])\n",
    "        df2 = pd.DataFrame(tmp,columns=['Diện tích (m2)','Số phòng ngủ','Số phòng WC','Địa chỉ', 'Description'])\n",
    "        df1 = pd.concat([df1,df2],axis=1)\n",
    "        report = pd.concat([report,df1],axis=0)\n",
    "        report.set_index(np.arange(len(report)),inplace=True)\n",
    "        driver.get(next)\n",
    "    return report\n"
   ]
  },
  {
   "cell_type": "code",
   "execution_count": 23,
   "metadata": {},
   "outputs": [],
   "source": [
    "def runInParallel(func,drivers_rx):\n",
    "    que = Queue()\n",
    "    for driver in drivers_rx:\n",
    "        print(\"------Running parallel------\")\n",
    "        t1 = threading.Thread(target= lambda q,arg1:q.put(func(arg1)),args=(que,driver))\n",
    "        t1.start()\n",
    "    ans = []\n",
    "    for i in range(len(drivers_rx)):\n",
    "        try:\n",
    "            tmp = que.get()\n",
    "            ans.append(tmp)\n",
    "        except:\n",
    "            continue\n",
    "    return ans"
   ]
  },
  {
   "cell_type": "code",
   "execution_count": 24,
   "metadata": {},
   "outputs": [],
   "source": [
    "driver_r1 = openMultiBrowser(3)\n",
    "loadMultiBrowsers(driver_r1)\n",
    "sleep(5)"
   ]
  },
  {
   "cell_type": "code",
   "execution_count": 25,
   "metadata": {},
   "outputs": [
    {
     "name": "stdout",
     "output_type": "stream",
     "text": [
      "------Running parallel------\n",
      "------Running parallel------\n",
      "------Running parallel------\n"
     ]
    }
   ],
   "source": [
    "list_report = runInParallel(get_data,driver_r1)"
   ]
  },
  {
   "cell_type": "code",
   "execution_count": null,
   "metadata": {},
   "outputs": [],
   "source": []
  }
 ],
 "metadata": {
  "kernelspec": {
   "display_name": "Python 3",
   "language": "python",
   "name": "python3"
  },
  "language_info": {
   "codemirror_mode": {
    "name": "ipython",
    "version": 3
   },
   "file_extension": ".py",
   "mimetype": "text/x-python",
   "name": "python",
   "nbconvert_exporter": "python",
   "pygments_lexer": "ipython3",
   "version": "3.10.12"
  }
 },
 "nbformat": 4,
 "nbformat_minor": 2
}
