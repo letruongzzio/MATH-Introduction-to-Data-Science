{
 "cells": [
  {
   "cell_type": "code",
   "execution_count": 24,
   "metadata": {},
   "outputs": [],
   "source": [
    "import os\n",
    "import re\n",
    "import numpy as np\n",
    "from selenium import webdriver\n",
    "from selenium.webdriver.common.by import By\n",
    "import pandas as pd\n",
    "import numpy as np\n",
    "from time import sleep"
   ]
  },
  {
   "cell_type": "code",
   "execution_count": 25,
   "metadata": {},
   "outputs": [],
   "source": [
    "os.environ['PATH'] += r\"/usr/local/bin/\"\n",
    "driver = webdriver.Chrome()\n",
    "driver.maximize_window()\n",
    "sleep(5)"
   ]
  },
  {
   "cell_type": "code",
   "execution_count": 26,
   "metadata": {},
   "outputs": [],
   "source": [
    "def get_data(text):\n",
    "    reg_template = {\"Area\":'Diện tích:\\s*(\\d+)',\n",
    "                \"Room\":'Phòng ngủ:\\s*(\\d+)',\n",
    "                \"WC\":'Phòng WC:\\s*(\\d+)',\n",
    "                \"Location\":'Địa chỉ:\\s*(.+)'}\n",
    "    list_params = []\n",
    "    for i,name in enumerate(reg_template):\n",
    "        x = re.search(r'{}'.format(reg_template[name]),text)\n",
    "        if x:\n",
    "            list_params.append(x.group(1))\n",
    "        else:\n",
    "            list_params.append(np.nan)\n",
    "    return list_params"
   ]
  },
  {
   "cell_type": "code",
   "execution_count": 27,
   "metadata": {},
   "outputs": [
    {
     "name": "stdout",
     "output_type": "stream",
     "text": [
      "Loading\n",
      "Loading\n",
      "Loading\n"
     ]
    }
   ],
   "source": [
    "base_url = \"https://batdongsan.vn/ban-nha/\"\n",
    "report =    pd.DataFrame(columns=['Title', 'Price', 'Links',\\\n",
    "            'Diện tích (m2)', 'Số phòng ngủ','Số phòng WC', 'Địa chỉ'\\\n",
    "            ,'Description'])\n",
    "\n",
    "page = 2\n",
    "\n",
    "for i in range(1):\n",
    "    url = base_url + \"p{}\".format(i+1)\n",
    "    print(\"Loading\")\n",
    "    driver.get(url)\n",
    "    print(\"Loading\")\n",
    "\n",
    "    driver.implicitly_wait(1)\n",
    "    try:\n",
    "        print(\"Loading\")\n",
    "        elements = driver.find_elements('css selector','.uk-width-medium-7-10 .name [href]')\n",
    "        elements_price = driver.find_elements('css selector','.price')\n",
    "    except:\n",
    "        continue\n",
    "    \n",
    "    title = [element.text for element in elements]\n",
    "\n",
    "    links = [element.get_attribute('href') for element in elements]\n",
    "\n",
    "    price = [element.text for element in elements_price]\n",
    "    \n",
    "    df1 = pd.DataFrame(zip(title,price,links),columns=['Title','Price','Links'])\n",
    "    \n",
    "    data = []\n",
    "    \n",
    "    n = len(df1)\n",
    "\n",
    "    for j in range(n):\n",
    "        try:\n",
    "            driver.get(links[j])\n",
    "            params = driver.find_element('css selector',\".param\")\n",
    "            content = driver.find_element('css selector',\".content\")\n",
    "        except:\n",
    "            df1.drop(j,axis=0,inplace=True)\n",
    "            continue\n",
    "        params_ = get_data(params.text)\n",
    "        params_.append(content.text)\n",
    "        data.append(params_)\n",
    "\n",
    "    tmp = np.vstack([item for item in data])\n",
    "    df2 = pd.DataFrame(tmp,columns=['Diện tích (m2)','Số phòng ngủ','Số phòng WC','Địa chỉ', 'Description'])\n",
    "    df1 = pd.concat([df1,df2],axis=1)\n",
    "    report = pd.concat([report,df1],axis=0)\n",
    "    report.set_index(np.arange(len(report)),inplace=True)\n",
    "    report.to_csv('output.csv',sep=\"\\t\",index=False)\n",
    "\n",
    "report"
   ]
  },
  {
   "cell_type": "code",
   "execution_count": null,
   "metadata": {},
   "outputs": [],
   "source": []
  }
 ],
 "metadata": {
  "kernelspec": {
   "display_name": "Python 3",
   "language": "python",
   "name": "python3"
  },
  "language_info": {
   "codemirror_mode": {
    "name": "ipython",
    "version": 3
   },
   "file_extension": ".py",
   "mimetype": "text/x-python",
   "name": "python",
   "nbconvert_exporter": "python",
   "pygments_lexer": "ipython3",
   "version": "3.10.12"
  }
 },
 "nbformat": 4,
 "nbformat_minor": 2
}
