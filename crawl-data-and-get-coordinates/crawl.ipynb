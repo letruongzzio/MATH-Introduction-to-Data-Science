{
 "cells": [
  {
   "cell_type": "code",
   "execution_count": 1,
   "metadata": {},
   "outputs": [],
   "source": [
    "import os\n",
    "import re\n",
    "import numpy as np\n",
    "from selenium import webdriver\n",
    "from selenium.webdriver.common.by import By\n",
    "import pandas as pd\n",
    "import numpy as np\n",
    "from time import sleep"
   ]
  },
  {
   "cell_type": "code",
   "execution_count": 2,
   "metadata": {},
   "outputs": [],
   "source": [
    "os.environ['PATH'] += r\"/usr/local/bin/\"\n",
    "driver = webdriver.Chrome()\n",
    "driver.maximize_window()\n",
    "sleep(5)"
   ]
  },
  {
   "cell_type": "code",
   "execution_count": 5,
   "metadata": {},
   "outputs": [],
   "source": [
    "def get_data(text):\n",
    "    reg_template = {\"Area\":'Diện tích:\\s*(\\d+)',\n",
    "                \"Room\":'Phòng ngủ:\\s*(\\d+)',\n",
    "                \"WC\":'Phòng WC:\\s*(\\d+)',\n",
    "                \"Location\":'Địa chỉ:\\s*(.+)'}\n",
    "    list_params = []\n",
    "    for i,name in enumerate(reg_template):\n",
    "        x = re.search(r'{}'.format(reg_template[name]),text)\n",
    "        if x:\n",
    "            list_params.append(x.group(1))\n",
    "        else:\n",
    "            list_params.append(np.nan)\n",
    "    return list_params"
   ]
  },
  {
   "cell_type": "code",
   "execution_count": 6,
   "metadata": {},
   "outputs": [
    {
     "ename": "NoSuchWindowException",
     "evalue": "Message: no such window: target window already closed\nfrom unknown error: web view not found\n  (Session info: chrome=126.0.6478.55)\nStacktrace:\n#0 0x57b4331456aa <unknown>\n#1 0x57b432e280dc <unknown>\n#2 0x57b432dfd384 <unknown>\n#3 0x57b432e9fd3d <unknown>\n#4 0x57b432eb5f66 <unknown>\n#5 0x57b432e97613 <unknown>\n#6 0x57b432e674f7 <unknown>\n#7 0x57b432e67e4e <unknown>\n#8 0x57b43310b87b <unknown>\n#9 0x57b43310f921 <unknown>\n#10 0x57b4330f736e <unknown>\n#11 0x57b433110482 <unknown>\n#12 0x57b4330dbccf <unknown>\n#13 0x57b4331350a8 <unknown>\n#14 0x57b433135280 <unknown>\n#15 0x57b4331447dc <unknown>\n#16 0x77060c894ac3 <unknown>\n",
     "output_type": "error",
     "traceback": [
      "\u001b[0;31m---------------------------------------------------------------------------\u001b[0m",
      "\u001b[0;31mNoSuchWindowException\u001b[0m                     Traceback (most recent call last)",
      "Cell \u001b[0;32mIn[6], line 8\u001b[0m\n\u001b[1;32m      2\u001b[0m report \u001b[38;5;241m=\u001b[39m    pd\u001b[38;5;241m.\u001b[39mDataFrame(columns\u001b[38;5;241m=\u001b[39m[\u001b[38;5;124m'\u001b[39m\u001b[38;5;124mTitle\u001b[39m\u001b[38;5;124m'\u001b[39m, \u001b[38;5;124m'\u001b[39m\u001b[38;5;124mPrice\u001b[39m\u001b[38;5;124m'\u001b[39m, \u001b[38;5;124m'\u001b[39m\u001b[38;5;124mLinks\u001b[39m\u001b[38;5;124m'\u001b[39m,\\\n\u001b[1;32m      3\u001b[0m             \u001b[38;5;124m'\u001b[39m\u001b[38;5;124mDiện tích (m2)\u001b[39m\u001b[38;5;124m'\u001b[39m, \u001b[38;5;124m'\u001b[39m\u001b[38;5;124mSố phòng ngủ\u001b[39m\u001b[38;5;124m'\u001b[39m,\u001b[38;5;124m'\u001b[39m\u001b[38;5;124mSố phòng WC\u001b[39m\u001b[38;5;124m'\u001b[39m, \u001b[38;5;124m'\u001b[39m\u001b[38;5;124mĐịa chỉ\u001b[39m\u001b[38;5;124m'\u001b[39m\\\n\u001b[1;32m      4\u001b[0m             ,\u001b[38;5;124m'\u001b[39m\u001b[38;5;124mDescription\u001b[39m\u001b[38;5;124m'\u001b[39m])\n\u001b[1;32m      6\u001b[0m driver\u001b[38;5;241m.\u001b[39mget(base_url\u001b[38;5;241m+\u001b[39m\u001b[38;5;124m\"\u001b[39m\u001b[38;5;124mp\u001b[39m\u001b[38;5;132;01m{}\u001b[39;00m\u001b[38;5;124m\"\u001b[39m\u001b[38;5;241m.\u001b[39mformat(\u001b[38;5;241m1\u001b[39m))\n\u001b[0;32m----> 8\u001b[0m \u001b[38;5;28mnext\u001b[39m \u001b[38;5;241m=\u001b[39m \u001b[43mdriver\u001b[49m\u001b[38;5;241;43m.\u001b[39;49m\u001b[43mfind_element\u001b[49m\u001b[43m(\u001b[49m\u001b[38;5;124;43m'\u001b[39;49m\u001b[38;5;124;43mcss selector\u001b[39;49m\u001b[38;5;124;43m'\u001b[39;49m\u001b[43m,\u001b[49m\u001b[38;5;124;43m'\u001b[39;49m\u001b[38;5;124;43m.uk-pagination [rel=\u001b[39;49m\u001b[38;5;124;43m\"\u001b[39;49m\u001b[38;5;124;43mnext\u001b[39;49m\u001b[38;5;124;43m\"\u001b[39;49m\u001b[38;5;124;43m]\u001b[39;49m\u001b[38;5;124;43m'\u001b[39;49m\u001b[43m)\u001b[49m\n\u001b[1;32m      9\u001b[0m \u001b[38;5;28mnext\u001b[39m\u001b[38;5;241m.\u001b[39mclick()\n\u001b[1;32m     12\u001b[0m \u001b[38;5;66;03m# page = 2\u001b[39;00m\n\u001b[1;32m     13\u001b[0m \n\u001b[1;32m     14\u001b[0m \u001b[38;5;66;03m# for i in range(1):\u001b[39;00m\n\u001b[0;32m   (...)\u001b[0m\n\u001b[1;32m     59\u001b[0m \u001b[38;5;66;03m#     report.set_index(np.arange(len(report)),inplace=True)\u001b[39;00m\n\u001b[1;32m     60\u001b[0m \u001b[38;5;66;03m#     report.to_csv('output.csv',sep=\"\\t\",index=False)\u001b[39;00m\n",
      "File \u001b[0;32m~/.local/lib/python3.10/site-packages/selenium/webdriver/remote/webdriver.py:741\u001b[0m, in \u001b[0;36mWebDriver.find_element\u001b[0;34m(self, by, value)\u001b[0m\n\u001b[1;32m    738\u001b[0m     by \u001b[38;5;241m=\u001b[39m By\u001b[38;5;241m.\u001b[39mCSS_SELECTOR\n\u001b[1;32m    739\u001b[0m     value \u001b[38;5;241m=\u001b[39m \u001b[38;5;124mf\u001b[39m\u001b[38;5;124m'\u001b[39m\u001b[38;5;124m[name=\u001b[39m\u001b[38;5;124m\"\u001b[39m\u001b[38;5;132;01m{\u001b[39;00mvalue\u001b[38;5;132;01m}\u001b[39;00m\u001b[38;5;124m\"\u001b[39m\u001b[38;5;124m]\u001b[39m\u001b[38;5;124m'\u001b[39m\n\u001b[0;32m--> 741\u001b[0m \u001b[38;5;28;01mreturn\u001b[39;00m \u001b[38;5;28;43mself\u001b[39;49m\u001b[38;5;241;43m.\u001b[39;49m\u001b[43mexecute\u001b[49m\u001b[43m(\u001b[49m\u001b[43mCommand\u001b[49m\u001b[38;5;241;43m.\u001b[39;49m\u001b[43mFIND_ELEMENT\u001b[49m\u001b[43m,\u001b[49m\u001b[43m \u001b[49m\u001b[43m{\u001b[49m\u001b[38;5;124;43m\"\u001b[39;49m\u001b[38;5;124;43musing\u001b[39;49m\u001b[38;5;124;43m\"\u001b[39;49m\u001b[43m:\u001b[49m\u001b[43m \u001b[49m\u001b[43mby\u001b[49m\u001b[43m,\u001b[49m\u001b[43m \u001b[49m\u001b[38;5;124;43m\"\u001b[39;49m\u001b[38;5;124;43mvalue\u001b[39;49m\u001b[38;5;124;43m\"\u001b[39;49m\u001b[43m:\u001b[49m\u001b[43m \u001b[49m\u001b[43mvalue\u001b[49m\u001b[43m}\u001b[49m\u001b[43m)\u001b[49m[\u001b[38;5;124m\"\u001b[39m\u001b[38;5;124mvalue\u001b[39m\u001b[38;5;124m\"\u001b[39m]\n",
      "File \u001b[0;32m~/.local/lib/python3.10/site-packages/selenium/webdriver/remote/webdriver.py:347\u001b[0m, in \u001b[0;36mWebDriver.execute\u001b[0;34m(self, driver_command, params)\u001b[0m\n\u001b[1;32m    345\u001b[0m response \u001b[38;5;241m=\u001b[39m \u001b[38;5;28mself\u001b[39m\u001b[38;5;241m.\u001b[39mcommand_executor\u001b[38;5;241m.\u001b[39mexecute(driver_command, params)\n\u001b[1;32m    346\u001b[0m \u001b[38;5;28;01mif\u001b[39;00m response:\n\u001b[0;32m--> 347\u001b[0m     \u001b[38;5;28;43mself\u001b[39;49m\u001b[38;5;241;43m.\u001b[39;49m\u001b[43merror_handler\u001b[49m\u001b[38;5;241;43m.\u001b[39;49m\u001b[43mcheck_response\u001b[49m\u001b[43m(\u001b[49m\u001b[43mresponse\u001b[49m\u001b[43m)\u001b[49m\n\u001b[1;32m    348\u001b[0m     response[\u001b[38;5;124m\"\u001b[39m\u001b[38;5;124mvalue\u001b[39m\u001b[38;5;124m\"\u001b[39m] \u001b[38;5;241m=\u001b[39m \u001b[38;5;28mself\u001b[39m\u001b[38;5;241m.\u001b[39m_unwrap_value(response\u001b[38;5;241m.\u001b[39mget(\u001b[38;5;124m\"\u001b[39m\u001b[38;5;124mvalue\u001b[39m\u001b[38;5;124m\"\u001b[39m, \u001b[38;5;28;01mNone\u001b[39;00m))\n\u001b[1;32m    349\u001b[0m     \u001b[38;5;28;01mreturn\u001b[39;00m response\n",
      "File \u001b[0;32m~/.local/lib/python3.10/site-packages/selenium/webdriver/remote/errorhandler.py:229\u001b[0m, in \u001b[0;36mErrorHandler.check_response\u001b[0;34m(self, response)\u001b[0m\n\u001b[1;32m    227\u001b[0m         alert_text \u001b[38;5;241m=\u001b[39m value[\u001b[38;5;124m\"\u001b[39m\u001b[38;5;124malert\u001b[39m\u001b[38;5;124m\"\u001b[39m]\u001b[38;5;241m.\u001b[39mget(\u001b[38;5;124m\"\u001b[39m\u001b[38;5;124mtext\u001b[39m\u001b[38;5;124m\"\u001b[39m)\n\u001b[1;32m    228\u001b[0m     \u001b[38;5;28;01mraise\u001b[39;00m exception_class(message, screen, stacktrace, alert_text)  \u001b[38;5;66;03m# type: ignore[call-arg]  # mypy is not smart enough here\u001b[39;00m\n\u001b[0;32m--> 229\u001b[0m \u001b[38;5;28;01mraise\u001b[39;00m exception_class(message, screen, stacktrace)\n",
      "\u001b[0;31mNoSuchWindowException\u001b[0m: Message: no such window: target window already closed\nfrom unknown error: web view not found\n  (Session info: chrome=126.0.6478.55)\nStacktrace:\n#0 0x57b4331456aa <unknown>\n#1 0x57b432e280dc <unknown>\n#2 0x57b432dfd384 <unknown>\n#3 0x57b432e9fd3d <unknown>\n#4 0x57b432eb5f66 <unknown>\n#5 0x57b432e97613 <unknown>\n#6 0x57b432e674f7 <unknown>\n#7 0x57b432e67e4e <unknown>\n#8 0x57b43310b87b <unknown>\n#9 0x57b43310f921 <unknown>\n#10 0x57b4330f736e <unknown>\n#11 0x57b433110482 <unknown>\n#12 0x57b4330dbccf <unknown>\n#13 0x57b4331350a8 <unknown>\n#14 0x57b433135280 <unknown>\n#15 0x57b4331447dc <unknown>\n#16 0x77060c894ac3 <unknown>\n"
     ]
    }
   ],
   "source": [
    "base_url = \"https://batdongsan.vn/ban-nha/\"\n",
    "report =    pd.DataFrame(columns=['Title', 'Price', 'Links',\\\n",
    "            'Diện tích (m2)', 'Số phòng ngủ','Số phòng WC', 'Địa chỉ'\\\n",
    "            ,'Description'])\n",
    "\n",
    "driver.get(base_url+\"p{}\".format(1))\n",
    "\n",
    "\n",
    "page = 2\n",
    "\n",
    "for i in range(1):\n",
    "    url = base_url + \"p{}\".format(i+1)\n",
    "    try :\n",
    "        print(\"Loading\")\n",
    "        driver.get(url)\n",
    "    except Exception as e:\n",
    "        print(e)\n",
    "    print(\"Loading\")\n",
    "\n",
    "    driver.implicitly_wait(1)\n",
    "    try:\n",
    "        print(\"Loading\")\n",
    "        elements = driver.find_elements('css selector','.uk-width-medium-7-10 .name [href]')\n",
    "        elements_price = driver.find_elements('css selector','.price')\n",
    "    except:\n",
    "        continue\n",
    "    \n",
    "    title = [element.text for element in elements]\n",
    "\n",
    "    links = [element.get_attribute('href') for element in elements]\n",
    "\n",
    "    price = [element.text for element in elements_price]\n",
    "    \n",
    "    df1 = pd.DataFrame(zip(title,price,links),columns=['Title','Price','Links'])\n",
    "    \n",
    "    data = []\n",
    "    \n",
    "    n = len(df1)\n",
    "\n",
    "    for j in range(n):\n",
    "        try:\n",
    "            driver.get(links[j])\n",
    "            params = driver.find_element('css selector',\".param\")\n",
    "            content = driver.find_element('css selector',\".content\")\n",
    "        except:\n",
    "            df1.drop(j,axis=0,inplace=True)\n",
    "            continue\n",
    "        params_ = get_data(params.text)\n",
    "        params_.append(content.text)\n",
    "        data.append(params_)\n",
    "\n",
    "    tmp = np.vstack([item for item in data])\n",
    "    df2 = pd.DataFrame(tmp,columns=['Diện tích (m2)','Số phòng ngủ','Số phòng WC','Địa chỉ', 'Description'])\n",
    "    df1 = pd.concat([df1,df2],axis=1)\n",
    "    report = pd.concat([report,df1],axis=0)\n",
    "    report.set_index(np.arange(len(report)),inplace=True)\n",
    "    report.to_csv('output.csv',sep=\"\\t\",index=False)\n",
    "\n",
    "report"
   ]
  },
  {
   "cell_type": "code",
   "execution_count": null,
   "metadata": {},
   "outputs": [],
   "source": []
  }
 ],
 "metadata": {
  "kernelspec": {
   "display_name": "Python 3",
   "language": "python",
   "name": "python3"
  },
  "language_info": {
   "codemirror_mode": {
    "name": "ipython",
    "version": 3
   },
   "file_extension": ".py",
   "mimetype": "text/x-python",
   "name": "python",
   "nbconvert_exporter": "python",
   "pygments_lexer": "ipython3",
   "version": "3.10.12"
  }
 },
 "nbformat": 4,
 "nbformat_minor": 2
}
