{
 "cells": [
  {
   "cell_type": "markdown",
   "metadata": {},
   "source": [
    "# Import libraries"
   ]
  },
  {
   "cell_type": "code",
   "execution_count": 1,
   "metadata": {},
   "outputs": [],
   "source": [
    "import torch\n",
    "import torch.nn as nn\n",
    "from torch.utils.data import DataLoader, Dataset\n",
    "import pandas as pd"
   ]
  },
  {
   "cell_type": "code",
   "execution_count": 2,
   "metadata": {},
   "outputs": [],
   "source": [
    "use_cuda = torch.cuda.is_available()\n",
    "device = torch.device(\"cuda:0\" if use_cuda else \"cpu\")"
   ]
  },
  {
   "cell_type": "markdown",
   "metadata": {},
   "source": [
    "# Load data"
   ]
  },
  {
   "cell_type": "code",
   "execution_count": 5,
   "metadata": {},
   "outputs": [],
   "source": [
    "data = pd.read_csv(\"../data/complex_data.csv\", sep=\"\\t\", index_col=0)"
   ]
  },
  {
   "cell_type": "code",
   "execution_count": 6,
   "metadata": {},
   "outputs": [
    {
     "data": {
      "text/html": [
       "<div>\n",
       "<style scoped>\n",
       "    .dataframe tbody tr th:only-of-type {\n",
       "        vertical-align: middle;\n",
       "    }\n",
       "\n",
       "    .dataframe tbody tr th {\n",
       "        vertical-align: top;\n",
       "    }\n",
       "\n",
       "    .dataframe thead th {\n",
       "        text-align: right;\n",
       "    }\n",
       "</style>\n",
       "<table border=\"1\" class=\"dataframe\">\n",
       "  <thead>\n",
       "    <tr style=\"text-align: right;\">\n",
       "      <th></th>\n",
       "      <th>Log Price</th>\n",
       "      <th>Log Area</th>\n",
       "      <th>Log Bedrooms</th>\n",
       "      <th>Log WC</th>\n",
       "      <th>Parking</th>\n",
       "      <th>Infrastructure</th>\n",
       "      <th>Facade</th>\n",
       "      <th>Log Floors</th>\n",
       "    </tr>\n",
       "  </thead>\n",
       "  <tbody>\n",
       "    <tr>\n",
       "      <th>count</th>\n",
       "      <td>4764.000000</td>\n",
       "      <td>4764.000000</td>\n",
       "      <td>4764.000000</td>\n",
       "      <td>4764.000000</td>\n",
       "      <td>4764.000000</td>\n",
       "      <td>4764.000000</td>\n",
       "      <td>4764.000000</td>\n",
       "      <td>4764.000000</td>\n",
       "    </tr>\n",
       "    <tr>\n",
       "      <th>mean</th>\n",
       "      <td>-0.001738</td>\n",
       "      <td>-0.000004</td>\n",
       "      <td>0.000266</td>\n",
       "      <td>-0.000957</td>\n",
       "      <td>0.003535</td>\n",
       "      <td>0.014805</td>\n",
       "      <td>-0.001661</td>\n",
       "      <td>0.005422</td>\n",
       "    </tr>\n",
       "    <tr>\n",
       "      <th>std</th>\n",
       "      <td>0.999911</td>\n",
       "      <td>0.995137</td>\n",
       "      <td>0.998461</td>\n",
       "      <td>0.999261</td>\n",
       "      <td>1.000343</td>\n",
       "      <td>0.993868</td>\n",
       "      <td>0.999346</td>\n",
       "      <td>0.998988</td>\n",
       "    </tr>\n",
       "    <tr>\n",
       "      <th>min</th>\n",
       "      <td>-2.492482</td>\n",
       "      <td>-5.430634</td>\n",
       "      <td>-3.161024</td>\n",
       "      <td>-2.674523</td>\n",
       "      <td>-0.933208</td>\n",
       "      <td>-1.494289</td>\n",
       "      <td>-0.643026</td>\n",
       "      <td>-2.025287</td>\n",
       "    </tr>\n",
       "    <tr>\n",
       "      <th>25%</th>\n",
       "      <td>-0.618843</td>\n",
       "      <td>-0.668842</td>\n",
       "      <td>-0.351505</td>\n",
       "      <td>-1.123405</td>\n",
       "      <td>-0.933208</td>\n",
       "      <td>-1.494289</td>\n",
       "      <td>-0.643026</td>\n",
       "      <td>-0.698957</td>\n",
       "    </tr>\n",
       "    <tr>\n",
       "      <th>50%</th>\n",
       "      <td>-0.045966</td>\n",
       "      <td>-0.086254</td>\n",
       "      <td>0.384194</td>\n",
       "      <td>0.427712</td>\n",
       "      <td>-0.933208</td>\n",
       "      <td>0.669215</td>\n",
       "      <td>-0.643026</td>\n",
       "      <td>0.076897</td>\n",
       "    </tr>\n",
       "    <tr>\n",
       "      <th>75%</th>\n",
       "      <td>0.574668</td>\n",
       "      <td>0.584781</td>\n",
       "      <td>0.384194</td>\n",
       "      <td>0.427712</td>\n",
       "      <td>1.071573</td>\n",
       "      <td>0.669215</td>\n",
       "      <td>1.555148</td>\n",
       "      <td>0.627374</td>\n",
       "    </tr>\n",
       "    <tr>\n",
       "      <th>max</th>\n",
       "      <td>2.624948</td>\n",
       "      <td>6.825509</td>\n",
       "      <td>6.573883</td>\n",
       "      <td>5.988411</td>\n",
       "      <td>1.071573</td>\n",
       "      <td>0.669215</td>\n",
       "      <td>1.555148</td>\n",
       "      <td>6.898158</td>\n",
       "    </tr>\n",
       "  </tbody>\n",
       "</table>\n",
       "</div>"
      ],
      "text/plain": [
       "         Log Price     Log Area  Log Bedrooms       Log WC      Parking  \\\n",
       "count  4764.000000  4764.000000   4764.000000  4764.000000  4764.000000   \n",
       "mean     -0.001738    -0.000004      0.000266    -0.000957     0.003535   \n",
       "std       0.999911     0.995137      0.998461     0.999261     1.000343   \n",
       "min      -2.492482    -5.430634     -3.161024    -2.674523    -0.933208   \n",
       "25%      -0.618843    -0.668842     -0.351505    -1.123405    -0.933208   \n",
       "50%      -0.045966    -0.086254      0.384194     0.427712    -0.933208   \n",
       "75%       0.574668     0.584781      0.384194     0.427712     1.071573   \n",
       "max       2.624948     6.825509      6.573883     5.988411     1.071573   \n",
       "\n",
       "       Infrastructure       Facade   Log Floors  \n",
       "count     4764.000000  4764.000000  4764.000000  \n",
       "mean         0.014805    -0.001661     0.005422  \n",
       "std          0.993868     0.999346     0.998988  \n",
       "min         -1.494289    -0.643026    -2.025287  \n",
       "25%         -1.494289    -0.643026    -0.698957  \n",
       "50%          0.669215    -0.643026     0.076897  \n",
       "75%          0.669215     1.555148     0.627374  \n",
       "max          0.669215     1.555148     6.898158  "
      ]
     },
     "execution_count": 6,
     "metadata": {},
     "output_type": "execute_result"
    }
   ],
   "source": [
    "data.describe()"
   ]
  },
  {
   "cell_type": "markdown",
   "metadata": {},
   "source": [
    "# Define model"
   ]
  },
  {
   "cell_type": "markdown",
   "metadata": {},
   "source": [
    "The architecture is defined as:\n",
    "- FFN (Fully connected network): 100 neurons\n",
    "- FFN: 100 neurons\n",
    "- FFN: 1 neuron\n",
    "\n",
    "All with ReLU activation function"
   ]
  },
  {
   "cell_type": "code",
   "execution_count": null,
   "metadata": {},
   "outputs": [],
   "source": [
    "model = torch.nn.Sequential()\n",
    "model.add_module('W0', nn.Linear(data.shape[1], 100))\n",
    "model.add_module(\"relu0\", nn.ReLU())\n",
    "model.add_module('W1', nn.Linear(100, 100))\n",
    "model.add_module(\"relu1\", nn.ReLU())\n",
    "model.add_module('W2', nn.Linear(100, 1))"
   ]
  },
  {
   "cell_type": "markdown",
   "metadata": {},
   "source": [
    "# Define the Early Stopping"
   ]
  },
  {
   "cell_type": "code",
   "execution_count": null,
   "metadata": {},
   "outputs": [],
   "source": [
    "class EarlyStopping:\n",
    "    def __init__(self, patience=7, verbose=False, delta=0, model_path='checkpoint.pt'):\n",
    "        self.patience = patience\n",
    "        self.verbose = verbose\n",
    "        self.counter = 0\n",
    "        self.best_score = None\n",
    "        self.early_stop = False\n",
    "        self.val_loss_min = float('inf')\n",
    "        self.delta = delta\n",
    "        self.model_path = model_path\n",
    "\n",
    "    def __call__(self, val_loss, model, model_path):\n",
    "        score = -val_loss\n",
    "\n",
    "        if self.best_score is None:\n",
    "            self.best_score = score\n",
    "            self.save_checkpoint(val_loss, model, model_path)\n",
    "        elif score < self.best_score + self.delta:\n",
    "            self.counter += 1\n",
    "            if self.verbose:\n",
    "                print(f'EarlyStopping counter: {self.counter} out of {self.patience}')\n",
    "            if self.counter >= self.patience:\n",
    "                self.early_stop = True\n",
    "        else:\n",
    "            self.best_score = score\n",
    "            self.save_checkpoint(val_loss, model)\n",
    "            self.counter = 0\n",
    "\n",
    "    def save_checkpoint(self, val_loss, model):\n",
    "        if self.verbose:\n",
    "            print(f'Validation loss decreased ({self.val_loss_min:.6f} --> {val_loss:.6f}).  Saving model ...')\n",
    "        torch.save(model.state_dict(), self.model_path)\n",
    "        self.val_loss_min = val_loss"
   ]
  },
  {
   "cell_type": "markdown",
   "metadata": {},
   "source": [
    "# Define DataLoader "
   ]
  },
  {
   "cell_type": "code",
   "execution_count": null,
   "metadata": {},
   "outputs": [],
   "source": [
    "class CustomDataset(Dataset):\n",
    "    def __init__(self, dataframe:pd.DataFrame, labels:pd.DataFrame) -> None:\n",
    "        self.data = torch.tensor(dataframe.values, dtype=torch.float32)\n",
    "        self.labels = torch.tensor(labels.values, dtype=torch.float32)\n",
    "\n",
    "    def __len__(self) -> int:\n",
    "        return len(self.data)\n",
    "\n",
    "    def __getitem__(self, idx) -> tuple:\n",
    "        return self.data[idx], self.labels[idx]"
   ]
  },
  {
   "cell_type": "code",
   "execution_count": null,
   "metadata": {},
   "outputs": [],
   "source": [
    "dataset = CustomDataset(dataframe=data.drop(columns=[\"Log Price\"]), labels=data[[\"Log Price\"]])\n",
    "dataloader = DataLoader(dataset, batch_size=32, shuffle=True)"
   ]
  },
  {
   "cell_type": "markdown",
   "metadata": {},
   "source": [
    "# Training loop"
   ]
  },
  {
   "cell_type": "code",
   "execution_count": null,
   "metadata": {},
   "outputs": [],
   "source": [
    "early_stopping = EarlyStopping(patience=10, verbose=True)\n",
    "num_epochs = 100\n",
    "loss_fn = torch.nn.MSELoss()\n",
    "optimizer = torch.optim.Adam(model.parameters(), lr=1e-3)"
   ]
  },
  {
   "cell_type": "code",
   "execution_count": null,
   "metadata": {},
   "outputs": [],
   "source": [
    "for epoch in range(num_epochs):\n",
    "    running_loss = 0.0\n",
    "    for inputs, labels in dataloader:\n",
    "        inputs, labels = inputs.to(device), labels.to(device)\n",
    "\n",
    "        optimizer.zero_grad()\n",
    "\n",
    "        outputs = model(inputs)\n",
    "        loss = loss_fn(outputs, labels)\n",
    "        loss.backward()\n",
    "        optimizer.step()\n",
    "\n",
    "        running_loss += loss.item()\n",
    "\n",
    "    print(f'Epoch {epoch+1}, Loss: {running_loss/len(dataloader)}')\n",
    "\n",
    "    early_stopping(running_loss, model, model_path='./model.pth')\n",
    "    if early_stopping.early_stop:\n",
    "        print(\"Early stopping\")\n",
    "        break\n",
    "\n",
    "print(\"Done training\")"
   ]
  },
  {
   "cell_type": "markdown",
   "metadata": {},
   "source": [
    "# Evaluate the model"
   ]
  },
  {
   "cell_type": "code",
   "execution_count": null,
   "metadata": {},
   "outputs": [],
   "source": [
    "model.load_state_dict(torch.load('./model.pth'))\n",
    "model.eval()\n",
    "\n",
    "test_data = pd.read_csv(\"../data/complex_data.csv\", sep=\"\\t\", index_col=0)\n",
    "test_dataset = CustomDataset(dataframe=test_data.drop(columns=[\"Log Price\"]), labels=test_data[[\"Log Price\"]])\n",
    "test_dataloader = DataLoader(test_dataset, batch_size=32, shuffle=False)\n",
    "\n",
    "test_loss = 0.0\n",
    "for inputs, labels in test_dataloader:\n",
    "    inputs, labels = inputs.to(device), labels.to(device)\n",
    "\n",
    "    outputs = model(inputs)\n",
    "    loss = loss_fn(outputs, labels)\n",
    "\n",
    "    test_loss += loss.item()\n",
    "\n",
    "print(f'Test loss: {test_loss/len(test_dataloader)}')"
   ]
  }
 ],
 "metadata": {
  "kernelspec": {
   "display_name": "handsonds",
   "language": "python",
   "name": "python3"
  },
  "language_info": {
   "codemirror_mode": {
    "name": "ipython",
    "version": 3
   },
   "file_extension": ".py",
   "mimetype": "text/x-python",
   "name": "python",
   "nbconvert_exporter": "python",
   "pygments_lexer": "ipython3",
   "version": "3.11.5"
  }
 },
 "nbformat": 4,
 "nbformat_minor": 2
}
