{
 "cells": [
  {
   "cell_type": "code",
   "execution_count": 49,
   "metadata": {},
   "outputs": [],
   "source": [
    "import pandas as pd\n",
    "import numpy as np\n",
    "from sklearn.metrics import mean_squared_error\n",
    "\n",
    "from train import LogTransformer\n",
    "import pickle"
   ]
  },
  {
   "cell_type": "code",
   "execution_count": 50,
   "metadata": {},
   "outputs": [
    {
     "data": {
      "text/html": [
       "<div>\n",
       "<style scoped>\n",
       "    .dataframe tbody tr th:only-of-type {\n",
       "        vertical-align: middle;\n",
       "    }\n",
       "\n",
       "    .dataframe tbody tr th {\n",
       "        vertical-align: top;\n",
       "    }\n",
       "\n",
       "    .dataframe thead th {\n",
       "        text-align: right;\n",
       "    }\n",
       "</style>\n",
       "<table border=\"1\" class=\"dataframe\">\n",
       "  <thead>\n",
       "    <tr style=\"text-align: right;\">\n",
       "      <th></th>\n",
       "      <th>Log price</th>\n",
       "      <th>Log area (square meters)</th>\n",
       "      <th>Distance to center 2</th>\n",
       "      <th>Distance to center 4</th>\n",
       "      <th>Log WC</th>\n",
       "      <th>Log Floors</th>\n",
       "    </tr>\n",
       "  </thead>\n",
       "  <tbody>\n",
       "    <tr>\n",
       "      <th>0</th>\n",
       "      <td>-0.530310</td>\n",
       "      <td>-1.288856</td>\n",
       "      <td>0.172328</td>\n",
       "      <td>1.388260</td>\n",
       "      <td>0.323821</td>\n",
       "      <td>1.033543</td>\n",
       "    </tr>\n",
       "    <tr>\n",
       "      <th>1</th>\n",
       "      <td>1.518783</td>\n",
       "      <td>-0.637139</td>\n",
       "      <td>-4.732391</td>\n",
       "      <td>-0.330580</td>\n",
       "      <td>-1.312694</td>\n",
       "      <td>-0.679309</td>\n",
       "    </tr>\n",
       "    <tr>\n",
       "      <th>2</th>\n",
       "      <td>-0.767807</td>\n",
       "      <td>0.330336</td>\n",
       "      <td>0.192896</td>\n",
       "      <td>-0.764218</td>\n",
       "      <td>0.323821</td>\n",
       "      <td>-0.679309</td>\n",
       "    </tr>\n",
       "    <tr>\n",
       "      <th>3</th>\n",
       "      <td>-0.130805</td>\n",
       "      <td>-1.349877</td>\n",
       "      <td>0.279746</td>\n",
       "      <td>-0.718391</td>\n",
       "      <td>-1.312694</td>\n",
       "      <td>-0.876262</td>\n",
       "    </tr>\n",
       "    <tr>\n",
       "      <th>4</th>\n",
       "      <td>-0.099847</td>\n",
       "      <td>-0.362392</td>\n",
       "      <td>0.316293</td>\n",
       "      <td>-0.713225</td>\n",
       "      <td>-1.312694</td>\n",
       "      <td>-0.679309</td>\n",
       "    </tr>\n",
       "  </tbody>\n",
       "</table>\n",
       "</div>"
      ],
      "text/plain": [
       "   Log price  Log area (square meters)  Distance to center 2  \\\n",
       "0  -0.530310                 -1.288856              0.172328   \n",
       "1   1.518783                 -0.637139             -4.732391   \n",
       "2  -0.767807                  0.330336              0.192896   \n",
       "3  -0.130805                 -1.349877              0.279746   \n",
       "4  -0.099847                 -0.362392              0.316293   \n",
       "\n",
       "   Distance to center 4    Log WC  Log Floors  \n",
       "0              1.388260  0.323821    1.033543  \n",
       "1             -0.330580 -1.312694   -0.679309  \n",
       "2             -0.764218  0.323821   -0.679309  \n",
       "3             -0.718391 -1.312694   -0.876262  \n",
       "4             -0.713225 -1.312694   -0.679309  "
      ]
     },
     "execution_count": 50,
     "metadata": {},
     "output_type": "execute_result"
    }
   ],
   "source": [
    "train_path = \"../data/complex_data.csv\"\n",
    "data = pd.read_csv(train_path, sep='\\t', index_col=0)\n",
    "data.head()"
   ]
  },
  {
   "cell_type": "code",
   "execution_count": 51,
   "metadata": {},
   "outputs": [
    {
     "data": {
      "text/html": [
       "<div>\n",
       "<style scoped>\n",
       "    .dataframe tbody tr th:only-of-type {\n",
       "        vertical-align: middle;\n",
       "    }\n",
       "\n",
       "    .dataframe tbody tr th {\n",
       "        vertical-align: top;\n",
       "    }\n",
       "\n",
       "    .dataframe thead th {\n",
       "        text-align: right;\n",
       "    }\n",
       "</style>\n",
       "<table border=\"1\" class=\"dataframe\">\n",
       "  <thead>\n",
       "    <tr style=\"text-align: right;\">\n",
       "      <th></th>\n",
       "      <th>Log price</th>\n",
       "      <th>Log area (square meters)</th>\n",
       "      <th>Distance to center 2</th>\n",
       "      <th>Distance to center 4</th>\n",
       "      <th>Log WC</th>\n",
       "      <th>Log Floors</th>\n",
       "    </tr>\n",
       "  </thead>\n",
       "  <tbody>\n",
       "    <tr>\n",
       "      <th>count</th>\n",
       "      <td>1.548000e+03</td>\n",
       "      <td>1.548000e+03</td>\n",
       "      <td>1.548000e+03</td>\n",
       "      <td>1.548000e+03</td>\n",
       "      <td>1.548000e+03</td>\n",
       "      <td>1.548000e+03</td>\n",
       "    </tr>\n",
       "    <tr>\n",
       "      <th>mean</th>\n",
       "      <td>2.088482e-16</td>\n",
       "      <td>-3.029446e-16</td>\n",
       "      <td>-5.519558e-16</td>\n",
       "      <td>1.204893e-17</td>\n",
       "      <td>1.067191e-16</td>\n",
       "      <td>2.891744e-16</td>\n",
       "    </tr>\n",
       "    <tr>\n",
       "      <th>std</th>\n",
       "      <td>1.000323e+00</td>\n",
       "      <td>1.000323e+00</td>\n",
       "      <td>1.000323e+00</td>\n",
       "      <td>1.000323e+00</td>\n",
       "      <td>1.000323e+00</td>\n",
       "      <td>1.000323e+00</td>\n",
       "    </tr>\n",
       "    <tr>\n",
       "      <th>min</th>\n",
       "      <td>-2.639511e+00</td>\n",
       "      <td>-5.099559e+00</td>\n",
       "      <td>-4.800193e+00</td>\n",
       "      <td>-1.487133e+00</td>\n",
       "      <td>-2.949209e+00</td>\n",
       "      <td>-1.975031e+00</td>\n",
       "    </tr>\n",
       "    <tr>\n",
       "      <th>25%</th>\n",
       "      <td>-6.644242e-01</td>\n",
       "      <td>-7.237111e-01</td>\n",
       "      <td>1.315263e-01</td>\n",
       "      <td>-7.301941e-01</td>\n",
       "      <td>-3.553939e-01</td>\n",
       "      <td>-6.793085e-01</td>\n",
       "    </tr>\n",
       "    <tr>\n",
       "      <th>50%</th>\n",
       "      <td>-1.279648e-01</td>\n",
       "      <td>-5.994834e-02</td>\n",
       "      <td>2.279517e-01</td>\n",
       "      <td>-7.101910e-01</td>\n",
       "      <td>3.238213e-01</td>\n",
       "      <td>7.864041e-02</td>\n",
       "    </tr>\n",
       "    <tr>\n",
       "      <th>75%</th>\n",
       "      <td>5.513539e-01</td>\n",
       "      <td>5.662177e-01</td>\n",
       "      <td>2.989341e-01</td>\n",
       "      <td>1.370351e+00</td>\n",
       "      <td>3.238213e-01</td>\n",
       "      <td>6.164137e-01</td>\n",
       "    </tr>\n",
       "    <tr>\n",
       "      <th>max</th>\n",
       "      <td>2.759917e+00</td>\n",
       "      <td>3.689734e+00</td>\n",
       "      <td>2.169470e+00</td>\n",
       "      <td>1.997407e+00</td>\n",
       "      <td>6.190667e+00</td>\n",
       "      <td>4.253966e+00</td>\n",
       "    </tr>\n",
       "  </tbody>\n",
       "</table>\n",
       "</div>"
      ],
      "text/plain": [
       "          Log price  Log area (square meters)  Distance to center 2  \\\n",
       "count  1.548000e+03              1.548000e+03          1.548000e+03   \n",
       "mean   2.088482e-16             -3.029446e-16         -5.519558e-16   \n",
       "std    1.000323e+00              1.000323e+00          1.000323e+00   \n",
       "min   -2.639511e+00             -5.099559e+00         -4.800193e+00   \n",
       "25%   -6.644242e-01             -7.237111e-01          1.315263e-01   \n",
       "50%   -1.279648e-01             -5.994834e-02          2.279517e-01   \n",
       "75%    5.513539e-01              5.662177e-01          2.989341e-01   \n",
       "max    2.759917e+00              3.689734e+00          2.169470e+00   \n",
       "\n",
       "       Distance to center 4        Log WC    Log Floors  \n",
       "count          1.548000e+03  1.548000e+03  1.548000e+03  \n",
       "mean           1.204893e-17  1.067191e-16  2.891744e-16  \n",
       "std            1.000323e+00  1.000323e+00  1.000323e+00  \n",
       "min           -1.487133e+00 -2.949209e+00 -1.975031e+00  \n",
       "25%           -7.301941e-01 -3.553939e-01 -6.793085e-01  \n",
       "50%           -7.101910e-01  3.238213e-01  7.864041e-02  \n",
       "75%            1.370351e+00  3.238213e-01  6.164137e-01  \n",
       "max            1.997407e+00  6.190667e+00  4.253966e+00  "
      ]
     },
     "execution_count": 51,
     "metadata": {},
     "output_type": "execute_result"
    }
   ],
   "source": [
    "data.describe()"
   ]
  },
  {
   "cell_type": "code",
   "execution_count": 52,
   "metadata": {},
   "outputs": [],
   "source": [
    "X = data.drop(columns=[\"Log price\"])\n",
    "y = data[\"Log price\"]"
   ]
  },
  {
   "cell_type": "code",
   "execution_count": 53,
   "metadata": {},
   "outputs": [],
   "source": [
    "k_number = int(data.shape[0]/500)"
   ]
  },
  {
   "cell_type": "markdown",
   "metadata": {},
   "source": [
    "# Support Vector Machine Regressor"
   ]
  },
  {
   "cell_type": "code",
   "execution_count": 54,
   "metadata": {},
   "outputs": [],
   "source": [
    "from sklearn.svm import SVR\n",
    "from sklearn.model_selection import RandomizedSearchCV\n",
    "\n",
    "from scipy.stats import expon, randint\n",
    "\n",
    "svr = SVR()\n",
    "\n",
    "param_distribution = [\n",
    "    {'C': [0.1, 1, 10, 100], 'gamma': [0.1, 1, 10, 100], 'kernel': ['rbf']}, \n",
    "    {'C': [0.1, 1, 10, 100], 'degree': [0.1, 1, 10, 100], 'coef0': [1, 2, 3, 4], 'kernel': ['poly']},\n",
    "    {'C': [0.1, 1, 10, 100], 'kernel': ['linear']}, \n",
    "    {'C': [0.1, 1, 10, 100], 'gamma': [0.1, 1, 10, 100], 'coef0': [1, 2, 3, 4], 'kernel': ['sigmoid']},\n",
    "]\n",
    "\n",
    "random_search = RandomizedSearchCV(\n",
    "    svr, \n",
    "    param_distributions=param_distribution, \n",
    "    n_iter=100, \n",
    "    scoring=\"neg_root_mean_squared_error\",\n",
    "    cv=k_number, \n",
    "    random_state=1, \n",
    "    n_jobs=-1\n",
    ")\n",
    "\n",
    "random_search.fit(X, y)"
   ]
  },
  {
   "cell_type": "code",
   "execution_count": null,
   "metadata": {},
   "outputs": [
    {
     "data": {
      "text/html": [
       "<div>\n",
       "<style scoped>\n",
       "    .dataframe tbody tr th:only-of-type {\n",
       "        vertical-align: middle;\n",
       "    }\n",
       "\n",
       "    .dataframe tbody tr th {\n",
       "        vertical-align: top;\n",
       "    }\n",
       "\n",
       "    .dataframe thead th {\n",
       "        text-align: right;\n",
       "    }\n",
       "</style>\n",
       "<table border=\"1\" class=\"dataframe\">\n",
       "  <thead>\n",
       "    <tr style=\"text-align: right;\">\n",
       "      <th></th>\n",
       "      <th>kernel</th>\n",
       "      <th>degree</th>\n",
       "      <th>coef0</th>\n",
       "      <th>C</th>\n",
       "      <th>split0</th>\n",
       "      <th>split1</th>\n",
       "      <th>split2</th>\n",
       "      <th>mean_test</th>\n",
       "    </tr>\n",
       "  </thead>\n",
       "  <tbody>\n",
       "    <tr>\n",
       "      <th>0</th>\n",
       "      <td>poly</td>\n",
       "      <td>1</td>\n",
       "      <td>2</td>\n",
       "      <td>1</td>\n",
       "      <td>0.904775</td>\n",
       "      <td>0.896291</td>\n",
       "      <td>0.875969</td>\n",
       "      <td>0.892427</td>\n",
       "    </tr>\n",
       "  </tbody>\n",
       "</table>\n",
       "</div>"
      ],
      "text/plain": [
       "  kernel degree coef0  C    split0    split1    split2  mean_test\n",
       "0   poly      1     2  1  0.904775  0.896291  0.875969   0.892427"
      ]
     },
     "execution_count": 48,
     "metadata": {},
     "output_type": "execute_result"
    }
   ],
   "source": [
    "cv_res = pd.DataFrame(random_search.cv_results_)\n",
    "cv_res.sort_values(by=\"mean_test_score\", ascending=False, inplace=True)\n",
    "\n",
    "cv_res = cv_res[\n",
    "    [\n",
    "        'param_kernel', \n",
    "        'param_degree', \n",
    "        'param_coef0', \n",
    "        'param_C',\n",
    "        'split0_test_score',\n",
    "        'split1_test_score', \n",
    "        'split2_test_score',\n",
    "        'mean_test_score'\n",
    "    ]\n",
    "]\n",
    "score_cols = [\"split0\", \"split1\", \"split2\", \"mean_test\"]\n",
    "cv_res.columns = [\"kernel\", \"degree\", \"coef0\", \"C\"] + score_cols\n",
    "cv_res[score_cols] = np.sqrt(-cv_res[score_cols])\n",
    "\n",
    "cv_res.head()"
   ]
  },
  {
   "cell_type": "code",
   "execution_count": null,
   "metadata": {},
   "outputs": [
    {
     "data": {
      "text/plain": [
       "Index(['kernel', 'degree', 'coef0', 'C', 'split0', 'split1', 'split2',\n",
       "       'mean_test'],\n",
       "      dtype='object')"
      ]
     },
     "execution_count": 47,
     "metadata": {},
     "output_type": "execute_result"
    }
   ],
   "source": [
    "cv_res.columns"
   ]
  },
  {
   "cell_type": "code",
   "execution_count": null,
   "metadata": {},
   "outputs": [],
   "source": []
  },
  {
   "cell_type": "code",
   "execution_count": null,
   "metadata": {},
   "outputs": [],
   "source": []
  },
  {
   "cell_type": "code",
   "execution_count": null,
   "metadata": {},
   "outputs": [],
   "source": []
  },
  {
   "cell_type": "code",
   "execution_count": null,
   "metadata": {},
   "outputs": [],
   "source": []
  },
  {
   "cell_type": "code",
   "execution_count": null,
   "metadata": {},
   "outputs": [],
   "source": []
  },
  {
   "cell_type": "code",
   "execution_count": null,
   "metadata": {},
   "outputs": [],
   "source": []
  },
  {
   "cell_type": "code",
   "execution_count": null,
   "metadata": {},
   "outputs": [],
   "source": []
  },
  {
   "cell_type": "code",
   "execution_count": null,
   "metadata": {},
   "outputs": [],
   "source": []
  },
  {
   "cell_type": "code",
   "execution_count": null,
   "metadata": {},
   "outputs": [],
   "source": []
  },
  {
   "cell_type": "code",
   "execution_count": null,
   "metadata": {},
   "outputs": [],
   "source": []
  },
  {
   "cell_type": "code",
   "execution_count": null,
   "metadata": {},
   "outputs": [],
   "source": []
  },
  {
   "cell_type": "code",
   "execution_count": null,
   "metadata": {},
   "outputs": [],
   "source": []
  },
  {
   "cell_type": "code",
   "execution_count": null,
   "metadata": {},
   "outputs": [],
   "source": []
  },
  {
   "cell_type": "code",
   "execution_count": null,
   "metadata": {},
   "outputs": [],
   "source": []
  },
  {
   "cell_type": "code",
   "execution_count": null,
   "metadata": {},
   "outputs": [],
   "source": []
  },
  {
   "cell_type": "code",
   "execution_count": null,
   "metadata": {},
   "outputs": [],
   "source": []
  },
  {
   "cell_type": "code",
   "execution_count": null,
   "metadata": {},
   "outputs": [],
   "source": []
  },
  {
   "cell_type": "code",
   "execution_count": null,
   "metadata": {},
   "outputs": [],
   "source": []
  },
  {
   "cell_type": "code",
   "execution_count": null,
   "metadata": {},
   "outputs": [],
   "source": []
  },
  {
   "cell_type": "code",
   "execution_count": null,
   "metadata": {},
   "outputs": [],
   "source": []
  },
  {
   "cell_type": "code",
   "execution_count": null,
   "metadata": {},
   "outputs": [],
   "source": []
  },
  {
   "cell_type": "code",
   "execution_count": null,
   "metadata": {},
   "outputs": [],
   "source": []
  },
  {
   "cell_type": "code",
   "execution_count": null,
   "metadata": {},
   "outputs": [],
   "source": []
  },
  {
   "cell_type": "code",
   "execution_count": null,
   "metadata": {},
   "outputs": [],
   "source": []
  },
  {
   "cell_type": "code",
   "execution_count": null,
   "metadata": {},
   "outputs": [],
   "source": []
  },
  {
   "cell_type": "code",
   "execution_count": null,
   "metadata": {},
   "outputs": [],
   "source": []
  },
  {
   "cell_type": "code",
   "execution_count": null,
   "metadata": {},
   "outputs": [],
   "source": []
  },
  {
   "cell_type": "code",
   "execution_count": null,
   "metadata": {},
   "outputs": [],
   "source": []
  },
  {
   "cell_type": "code",
   "execution_count": null,
   "metadata": {},
   "outputs": [],
   "source": []
  },
  {
   "cell_type": "code",
   "execution_count": null,
   "metadata": {},
   "outputs": [],
   "source": []
  },
  {
   "cell_type": "code",
   "execution_count": null,
   "metadata": {},
   "outputs": [],
   "source": []
  },
  {
   "cell_type": "code",
   "execution_count": null,
   "metadata": {},
   "outputs": [],
   "source": []
  },
  {
   "cell_type": "code",
   "execution_count": null,
   "metadata": {},
   "outputs": [],
   "source": []
  },
  {
   "cell_type": "code",
   "execution_count": null,
   "metadata": {},
   "outputs": [],
   "source": []
  },
  {
   "cell_type": "code",
   "execution_count": null,
   "metadata": {},
   "outputs": [],
   "source": []
  },
  {
   "cell_type": "code",
   "execution_count": null,
   "metadata": {},
   "outputs": [],
   "source": []
  }
 ],
 "metadata": {
  "kernelspec": {
   "display_name": "handsonds",
   "language": "python",
   "name": "python3"
  },
  "language_info": {
   "codemirror_mode": {
    "name": "ipython",
    "version": 3
   },
   "file_extension": ".py",
   "mimetype": "text/x-python",
   "name": "python",
   "nbconvert_exporter": "python",
   "pygments_lexer": "ipython3",
   "version": "3.11.5"
  }
 },
 "nbformat": 4,
 "nbformat_minor": 2
}
