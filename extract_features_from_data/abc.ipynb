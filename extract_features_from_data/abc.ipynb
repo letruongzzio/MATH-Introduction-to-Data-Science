{
 "cells": [
  {
   "cell_type": "code",
   "execution_count": 9,
   "metadata": {},
   "outputs": [],
   "source": [
    "import pandas as pd\n",
    "data = pd.read_csv(\"final_extracted_data.csv\", sep = \"\\t\")\n",
    "lon_lat1 = pd.read_csv(\"address1_lat_lon.csv\", sep = \"\\t\")\n",
    "lon_lat1.rename(columns = {\"Latitude\":\"lat1\", \"Longitude\":\"lon1\"}, inplace = True)\n",
    "lon_lat1 = lon_lat1.drop([\"Unnamed: 0\", \"Address1\"], axis = 1)\n",
    "\n",
    "lon_lat2 = pd.read_excel(\"address2.xlsx\")\n",
    "lon_lat2.rename(columns = {\"Latitude\":\"lat2\", \"Longitude\":\"lon2\"}, inplace = True)\n",
    "lon_lat2 = lon_lat2.drop([\"Unnamed: 0\", \"Address2\"], axis = 1)\n",
    "data = pd.concat([data, lon_lat1, lon_lat2], axis = 1)\n",
    "data.to_csv(\"final_extracted_data.csv\", sep = \"\\t\", index = False)"
   ]
  }
 ],
 "metadata": {
  "kernelspec": {
   "display_name": "Python 3",
   "language": "python",
   "name": "python3"
  },
  "language_info": {
   "codemirror_mode": {
    "name": "ipython",
    "version": 3
   },
   "file_extension": ".py",
   "mimetype": "text/x-python",
   "name": "python",
   "nbconvert_exporter": "python",
   "pygments_lexer": "ipython3",
   "version": "3.12.3"
  }
 },
 "nbformat": 4,
 "nbformat_minor": 2
}
